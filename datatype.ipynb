{
 "cells": [
  {
   "cell_type": "code",
   "execution_count": 1,
   "metadata": {},
   "outputs": [
    {
     "name": "stdout",
     "output_type": "stream",
     "text": [
      "<class 'int'>\n"
     ]
    }
   ],
   "source": [
    "x = 5\n",
    "print(type(x))"
   ]
  },
  {
   "cell_type": "code",
   "execution_count": 2,
   "metadata": {},
   "outputs": [
    {
     "name": "stdout",
     "output_type": "stream",
     "text": [
      "Hello World\n",
      "<class 'str'>\n"
     ]
    }
   ],
   "source": [
    "x = str(\"Hello World\")\n",
    "\n",
    "#display x:\n",
    "print(x)\n",
    "\n",
    "#display the data type of x:\n",
    "print(type(x))"
   ]
  },
  {
   "cell_type": "code",
   "execution_count": 3,
   "metadata": {},
   "outputs": [
    {
     "name": "stdout",
     "output_type": "stream",
     "text": [
      "20\n",
      "<class 'int'>\n"
     ]
    }
   ],
   "source": [
    "x = int(20)\n",
    "\n",
    "#display x:\n",
    "print(x)\n",
    "\n",
    "#display the data type of x:\n",
    "print(type(x))"
   ]
  },
  {
   "cell_type": "code",
   "execution_count": 4,
   "metadata": {},
   "outputs": [
    {
     "name": "stdout",
     "output_type": "stream",
     "text": [
      "20.5\n",
      "<class 'float'>\n"
     ]
    }
   ],
   "source": [
    "x = float(20.5)\n",
    "\n",
    "#display x:\n",
    "print(x)\n",
    "\n",
    "#display the data type of x:\n",
    "print(type(x))"
   ]
  },
  {
   "cell_type": "code",
   "execution_count": 5,
   "metadata": {},
   "outputs": [
    {
     "name": "stdout",
     "output_type": "stream",
     "text": [
      "('apple', 'banana', 'cherry')\n",
      "<class 'tuple'>\n"
     ]
    }
   ],
   "source": [
    "x = tuple((\"apple\", \"banana\", \"cherry\"))\n",
    "\n",
    "#display x:\n",
    "print(x)\n",
    "\n",
    "#display the data type of x:\n",
    "print(type(x))\n"
   ]
  },
  {
   "cell_type": "code",
   "execution_count": 6,
   "metadata": {},
   "outputs": [
    {
     "name": "stdout",
     "output_type": "stream",
     "text": [
      "range(0, 6)\n",
      "<class 'range'>\n"
     ]
    }
   ],
   "source": [
    "x = range(6)\n",
    "\n",
    "#display x:\n",
    "print(x)\n",
    "\n",
    "#display the data type of x:\n",
    "print(type(x))"
   ]
  },
  {
   "cell_type": "code",
   "execution_count": 7,
   "metadata": {},
   "outputs": [
    {
     "name": "stdout",
     "output_type": "stream",
     "text": [
      "['apple', 'banana', 'cherry']\n",
      "<class 'list'>\n"
     ]
    }
   ],
   "source": [
    "x = [\"apple\", \"banana\", \"cherry\"]\n",
    "\n",
    "#display x:\n",
    "print(x)\n",
    "\n",
    "#display the data type of x:\n",
    "print(type(x))"
   ]
  },
  {
   "cell_type": "code",
   "execution_count": 8,
   "metadata": {},
   "outputs": [
    {
     "name": "stdout",
     "output_type": "stream",
     "text": [
      "frozenset({'banana', 'cherry', 'apple'})\n",
      "<class 'frozenset'>\n"
     ]
    }
   ],
   "source": [
    "x = frozenset((\"apple\", \"banana\", \"cherry\"))\n",
    "\n",
    "#display x:\n",
    "print(x)\n",
    "\n",
    "#display the data type of x:\n",
    "print(type(x))\n"
   ]
  },
  {
   "cell_type": "code",
   "execution_count": 9,
   "metadata": {},
   "outputs": [
    {
     "name": "stdout",
     "output_type": "stream",
     "text": [
      "True\n",
      "<class 'bool'>\n"
     ]
    }
   ],
   "source": [
    "x = bool(5)\n",
    "\n",
    "#display x:\n",
    "print(x)\n",
    "\n",
    "#display the data type of x:\n",
    "print(type(x))"
   ]
  },
  {
   "cell_type": "code",
   "execution_count": 10,
   "metadata": {},
   "outputs": [
    {
     "name": "stdout",
     "output_type": "stream",
     "text": [
      "bytearray(b'\\x00\\x00\\x00\\x00\\x00')\n",
      "<class 'bytearray'>\n"
     ]
    }
   ],
   "source": [
    "x = bytearray(5)\n",
    "\n",
    "#display x:\n",
    "print(x)\n",
    "\n",
    "#display the data type of x:\n",
    "print(type(x))\n"
   ]
  },
  {
   "cell_type": "code",
   "execution_count": 11,
   "metadata": {},
   "outputs": [
    {
     "name": "stdout",
     "output_type": "stream",
     "text": [
      "<memory at 0x000002577017DF00>\n",
      "\n"
     ]
    }
   ],
   "source": [
    "x = memoryview(bytes(5))\n",
    "#display x:\n",
    "print(x)\n",
    "#display the data type of x:\n",
    "print()"
   ]
  },
  {
   "cell_type": "code",
   "execution_count": 12,
   "metadata": {},
   "outputs": [
    {
     "name": "stdout",
     "output_type": "stream",
     "text": [
      "None\n",
      "<class 'NoneType'>\n"
     ]
    }
   ],
   "source": [
    "x = None\n",
    "#display x:\n",
    "print(x)\n",
    "#display the data type of x:\n",
    "print(type(x))"
   ]
  }
 ],
 "metadata": {
  "kernelspec": {
   "display_name": "Python 3",
   "language": "python",
   "name": "python3"
  },
  "language_info": {
   "codemirror_mode": {
    "name": "ipython",
    "version": 3
   },
   "file_extension": ".py",
   "mimetype": "text/x-python",
   "name": "python",
   "nbconvert_exporter": "python",
   "pygments_lexer": "ipython3",
   "version": "3.12.6"
  }
 },
 "nbformat": 4,
 "nbformat_minor": 2
}
