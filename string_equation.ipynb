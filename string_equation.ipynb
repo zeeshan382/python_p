{
 "cells": [
  {
   "cell_type": "code",
   "execution_count": 2,
   "metadata": {},
   "outputs": [
    {
     "name": "stdout",
     "output_type": "stream",
     "text": [
      " string\n"
     ]
    }
   ],
   "source": [
    "text = \"we are learning string operation\" #collections/interable => iterate/iteraction\n",
    "#indexing\n",
    "# how we can get individual item/chracter from the collection/string though indexing\n",
    "\n",
    "# latter_string = text[-2]\n",
    "# print(letter_string)\n",
    "#slicing\n",
    "# text[smaller_index :greater_index]\n",
    "# sub_string = text[5,4]\n",
    "positive_sub_string = text[23:29]\n",
    "negative_sub_string = text[-17:-10]\n",
    "# string_index = text.index(\"string\")\n",
    "print(negative_sub_string)"
   ]
  }
 ],
 "metadata": {
  "kernelspec": {
   "display_name": "Python 3",
   "language": "python",
   "name": "python3"
  },
  "language_info": {
   "codemirror_mode": {
    "name": "ipython",
    "version": 3
   },
   "file_extension": ".py",
   "mimetype": "text/x-python",
   "name": "python",
   "nbconvert_exporter": "python",
   "pygments_lexer": "ipython3",
   "version": "3.12.6"
  }
 },
 "nbformat": 4,
 "nbformat_minor": 2
}
